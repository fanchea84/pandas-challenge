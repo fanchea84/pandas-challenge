{
 "cells": [
  {
   "cell_type": "code",
   "execution_count": 1,
   "metadata": {},
   "outputs": [],
   "source": [
    "# Dependencies and Setup\n",
    "import pandas as pd\n",
    "\n",
    "# File to Load (Remember to Change These)\n",
    "DataFile = \"HeroesOfPymoli/PurchaseData.csv\"\n",
    "\n",
    "# Read Purchasing File and store into Pandas data frame\n",
    "PurchaseData_df = pd.read_csv(DataFile)"
   ]
  },
  {
   "cell_type": "code",
   "execution_count": 2,
   "metadata": {},
   "outputs": [
    {
     "data": {
      "text/html": [
       "<div>\n",
       "<style scoped>\n",
       "    .dataframe tbody tr th:only-of-type {\n",
       "        vertical-align: middle;\n",
       "    }\n",
       "\n",
       "    .dataframe tbody tr th {\n",
       "        vertical-align: top;\n",
       "    }\n",
       "\n",
       "    .dataframe thead th {\n",
       "        text-align: right;\n",
       "    }\n",
       "</style>\n",
       "<table border=\"1\" class=\"dataframe\">\n",
       "  <thead>\n",
       "    <tr style=\"text-align: right;\">\n",
       "      <th></th>\n",
       "      <th>Total Players</th>\n",
       "    </tr>\n",
       "  </thead>\n",
       "  <tbody>\n",
       "    <tr>\n",
       "      <th>0</th>\n",
       "      <td>576</td>\n",
       "    </tr>\n",
       "  </tbody>\n",
       "</table>\n",
       "</div>"
      ],
      "text/plain": [
       "   Total Players\n",
       "0            576"
      ]
     },
     "execution_count": 2,
     "metadata": {},
     "output_type": "execute_result"
    }
   ],
   "source": [
    "# Count number of players\n",
    "UniquePlayers = PurchaseData_df[\"SN\"].value_counts()\n",
    "PlayerCount = len(UniquePlayers)\n",
    "PlayerCount_df = pd.DataFrame({\n",
    "    \"Total Players\": [PlayerCount]\n",
    "})\n",
    "PlayerCount_df"
   ]
  },
  {
   "cell_type": "code",
   "execution_count": 3,
   "metadata": {},
   "outputs": [
    {
     "data": {
      "text/html": [
       "<div>\n",
       "<style scoped>\n",
       "    .dataframe tbody tr th:only-of-type {\n",
       "        vertical-align: middle;\n",
       "    }\n",
       "\n",
       "    .dataframe tbody tr th {\n",
       "        vertical-align: top;\n",
       "    }\n",
       "\n",
       "    .dataframe thead th {\n",
       "        text-align: right;\n",
       "    }\n",
       "</style>\n",
       "<table border=\"1\" class=\"dataframe\">\n",
       "  <thead>\n",
       "    <tr style=\"text-align: right;\">\n",
       "      <th></th>\n",
       "      <th>Number of Unique Items</th>\n",
       "      <th>Average Price</th>\n",
       "      <th>Number of Purchases</th>\n",
       "      <th>Total Revenue</th>\n",
       "    </tr>\n",
       "  </thead>\n",
       "  <tbody>\n",
       "    <tr>\n",
       "      <th>0</th>\n",
       "      <td>179</td>\n",
       "      <td>$3.05</td>\n",
       "      <td>780</td>\n",
       "      <td>$2,379.77</td>\n",
       "    </tr>\n",
       "  </tbody>\n",
       "</table>\n",
       "</div>"
      ],
      "text/plain": [
       "   Number of Unique Items Average Price  Number of Purchases Total Revenue\n",
       "0                     179         $3.05                  780     $2,379.77"
      ]
     },
     "execution_count": 3,
     "metadata": {},
     "output_type": "execute_result"
    }
   ],
   "source": [
    "#--------------------------------------------------------------------------------------------------------------------------------------------\n",
    "# Purchasing Analysis (Total)  ==>  Create Item Summary table with Unique Item Count, Average Price, Number of Purchases, and Total Revenue\n",
    "#--------------------------------------------------------------------------------------------------------------------------------------------\n",
    "#Create variables to store values for: number of unique items, average price, number of purchases, and total revenue\n",
    "UniqueItems = PurchaseData_df[\"Item ID\"].value_counts() # Count number of unique items\n",
    "ItemCount = len(UniqueItems)\n",
    "AveragePrice = PurchaseData_df[\"Price\"].mean()\n",
    "NumberOfPurchases = PurchaseData_df[\"Price\"].count()\n",
    "TotalRevenue = PurchaseData_df[\"Price\"].sum()\n",
    "#Create DataFrame to display values\n",
    "ItemSummary_df = pd.DataFrame({\n",
    "    \"Number of Unique Items\": [ItemCount],\n",
    "    \"Average Price\": \"${:,.2f}\".format(AveragePrice),\n",
    "    \"Number of Purchases\": NumberOfPurchases,\n",
    "    \"Total Revenue\": \"${:,.2f}\".format(TotalRevenue)\n",
    "})\n",
    "ItemSummary_df"
   ]
  },
  {
   "cell_type": "code",
   "execution_count": 4,
   "metadata": {},
   "outputs": [
    {
     "data": {
      "text/html": [
       "<div>\n",
       "<style scoped>\n",
       "    .dataframe tbody tr th:only-of-type {\n",
       "        vertical-align: middle;\n",
       "    }\n",
       "\n",
       "    .dataframe tbody tr th {\n",
       "        vertical-align: top;\n",
       "    }\n",
       "\n",
       "    .dataframe thead th {\n",
       "        text-align: right;\n",
       "    }\n",
       "</style>\n",
       "<table border=\"1\" class=\"dataframe\">\n",
       "  <thead>\n",
       "    <tr style=\"text-align: right;\">\n",
       "      <th></th>\n",
       "      <th>Total Count</th>\n",
       "      <th>Percent of Total</th>\n",
       "    </tr>\n",
       "  </thead>\n",
       "  <tbody>\n",
       "    <tr>\n",
       "      <th>Male</th>\n",
       "      <td>484</td>\n",
       "      <td>84.03%</td>\n",
       "    </tr>\n",
       "    <tr>\n",
       "      <th>Female</th>\n",
       "      <td>81</td>\n",
       "      <td>14.06%</td>\n",
       "    </tr>\n",
       "    <tr>\n",
       "      <th>Other / Non-Disclosed</th>\n",
       "      <td>11</td>\n",
       "      <td>1.91%</td>\n",
       "    </tr>\n",
       "  </tbody>\n",
       "</table>\n",
       "</div>"
      ],
      "text/plain": [
       "                       Total Count Percent of Total\n",
       "Male                           484           84.03%\n",
       "Female                          81           14.06%\n",
       "Other / Non-Disclosed           11            1.91%"
      ]
     },
     "execution_count": 4,
     "metadata": {},
     "output_type": "execute_result"
    }
   ],
   "source": [
    "#------------------------------------------------------------------------------------------\n",
    "# Gender Demographics  ==>  Create Summary table with percent & count of players by Gender\n",
    "#------------------------------------------------------------------------------------------\n",
    "NameAndGender_df = PurchaseData_df.drop([\"Purchase ID\",\"Age\", \"Item ID\", \"Item Name\", \"Price\"], axis=1) # This line creates two-column dataframe, with name & gender\n",
    "DedupedNameAndGender_df = NameAndGender_df.drop_duplicates(subset=[\"SN\"]) # This line removes lines with duplicate player names (SN column)\n",
    "GenderCountSeries = DedupedNameAndGender_df.Gender.value_counts() # This line creates a series containing the player count for each gender\n",
    "PercentageSeries = GenderCountSeries/PlayerCount # This line creates a series containing the percentage for each gender\n",
    "# The next few lines create a dataframe with Gender statistics\n",
    "gender_demographic =  pd.DataFrame({\n",
    "    \"Total Count\": GenderCountSeries,\n",
    "    \"Percent of Total\": PercentageSeries.astype(float).map(\"{:,.2%}\".format)\n",
    "})\n",
    "gender_demographic"
   ]
  },
  {
   "cell_type": "code",
   "execution_count": 5,
   "metadata": {},
   "outputs": [],
   "source": [
    "# #create a variable to store the purchase count by gender\n",
    "# gender_purchase_count = PurchaseData_df['Gender'].value_counts()\n",
    "# gender_purchase_count\n",
    "# #create a variable to store total purchase price by gender\n",
    "# price_sum = PurchaseData_df.groupby(['Gender']).sum()\n",
    "# total_purchase_value = price_sum['Price']\n",
    "# total_purchase_value\n",
    "#  #create a variable to calculate average purchase price and per person\n",
    "# avg_purchase_price = total_purchase_value/gender_purchase_count\n",
    "# avg_purchase_per_person = total_purchase_value/gender_demographic[\"Total Count\"]"
   ]
  },
  {
   "cell_type": "code",
   "execution_count": 6,
   "metadata": {},
   "outputs": [
    {
     "data": {
      "text/html": [
       "<div>\n",
       "<style scoped>\n",
       "    .dataframe tbody tr th:only-of-type {\n",
       "        vertical-align: middle;\n",
       "    }\n",
       "\n",
       "    .dataframe tbody tr th {\n",
       "        vertical-align: top;\n",
       "    }\n",
       "\n",
       "    .dataframe thead th {\n",
       "        text-align: right;\n",
       "    }\n",
       "</style>\n",
       "<table border=\"1\" class=\"dataframe\">\n",
       "  <thead>\n",
       "    <tr style=\"text-align: right;\">\n",
       "      <th></th>\n",
       "      <th>Purchase Count</th>\n",
       "      <th>Average Purchase Price</th>\n",
       "      <th>Total Purchase Value</th>\n",
       "      <th>Avg Total Purchases per Person</th>\n",
       "    </tr>\n",
       "  </thead>\n",
       "  <tbody>\n",
       "    <tr>\n",
       "      <th>Female</th>\n",
       "      <td>113</td>\n",
       "      <td>$3.20</td>\n",
       "      <td>$361.94</td>\n",
       "      <td>$4.47</td>\n",
       "    </tr>\n",
       "    <tr>\n",
       "      <th>Male</th>\n",
       "      <td>652</td>\n",
       "      <td>$3.02</td>\n",
       "      <td>$1,967.64</td>\n",
       "      <td>$4.07</td>\n",
       "    </tr>\n",
       "    <tr>\n",
       "      <th>Other / Non-Disclosed</th>\n",
       "      <td>15</td>\n",
       "      <td>$3.35</td>\n",
       "      <td>$50.19</td>\n",
       "      <td>$4.56</td>\n",
       "    </tr>\n",
       "  </tbody>\n",
       "</table>\n",
       "</div>"
      ],
      "text/plain": [
       "                       Purchase Count Average Purchase Price  \\\n",
       "Female                            113                  $3.20   \n",
       "Male                              652                  $3.02   \n",
       "Other / Non-Disclosed              15                  $3.35   \n",
       "\n",
       "                      Total Purchase Value Avg Total Purchases per Person  \n",
       "Female                             $361.94                          $4.47  \n",
       "Male                             $1,967.64                          $4.07  \n",
       "Other / Non-Disclosed               $50.19                          $4.56  "
      ]
     },
     "execution_count": 6,
     "metadata": {},
     "output_type": "execute_result"
    }
   ],
   "source": [
    "#create a variable to store the purchase count by gender\n",
    "gender_purchase_count = PurchaseData_df['Gender'].value_counts()\n",
    "gender_purchase_count\n",
    "#create a variable to store total purchase price by gender\n",
    "price_sum = PurchaseData_df.groupby(['Gender']).sum()\n",
    "total_purchase_value = price_sum['Price']\n",
    "total_purchase_value\n",
    " #create a variable to calculate average purchase price and per person\n",
    "avg_purchase_price = total_purchase_value/gender_purchase_count\n",
    "avg_purchase_per_person = total_purchase_value/gender_demographic[\"Total Count\"]\n",
    "# create a new dataframe to expose the new variables in a table\n",
    "purchase_summary_df = pd.DataFrame({\"Purchase Count\": gender_purchase_count,\n",
    "                                    \"Average Purchase Price\": avg_purchase_price.astype(float).map(\"${:,.2f}\".format),\n",
    "                                    \"Total Purchase Value\": total_purchase_value.astype(float).map(\"${:,.2f}\".format),\n",
    "                                    \"Avg Total Purchases per Person\": avg_purchase_per_person.astype(float).map(\"${:,.2f}\".format)\n",
    "                                    })\n",
    "purchase_summary_df"
   ]
  },
  {
   "cell_type": "code",
   "execution_count": null,
   "metadata": {},
   "outputs": [],
   "source": []
  },
  {
   "cell_type": "code",
   "execution_count": null,
   "metadata": {},
   "outputs": [],
   "source": []
  },
  {
   "cell_type": "code",
   "execution_count": null,
   "metadata": {},
   "outputs": [],
   "source": []
  }
 ],
 "metadata": {
  "kernelspec": {
   "display_name": "Python 3",
   "language": "python",
   "name": "python3"
  },
  "language_info": {
   "codemirror_mode": {
    "name": "ipython",
    "version": 3
   },
   "file_extension": ".py",
   "mimetype": "text/x-python",
   "name": "python",
   "nbconvert_exporter": "python",
   "pygments_lexer": "ipython3",
   "version": "3.6.10"
  }
 },
 "nbformat": 4,
 "nbformat_minor": 4
}
